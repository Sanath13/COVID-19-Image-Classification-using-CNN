{
 "cells": [
  {
   "cell_type": "code",
   "execution_count": 1,
   "id": "980fc9c5",
   "metadata": {},
   "outputs": [
    {
     "name": "stdout",
     "output_type": "stream",
     "text": [
      " * Serving Flask app \"__main__\" (lazy loading)\n",
      " * Environment: production\n",
      "   WARNING: This is a development server. Do not use it in a production deployment.\n",
      "   Use a production WSGI server instead.\n",
      " * Debug mode: off\n"
     ]
    },
    {
     "name": "stderr",
     "output_type": "stream",
     "text": [
      " * Running on http://127.0.0.1:5000/ (Press CTRL+C to quit)\n",
      "127.0.0.1 - - [19/Aug/2021 12:18:20] \"\u001b[37mGET / HTTP/1.1\u001b[0m\" 200 -\n",
      "127.0.0.1 - - [19/Aug/2021 12:18:20] \"\u001b[33mGET /favicon.ico HTTP/1.1\u001b[0m\" 404 -\n"
     ]
    }
   ],
   "source": [
    "from flask import Flask, render_template, request\n",
    "\n",
    "from tensorflow.keras.preprocessing import image\n",
    "from keras.preprocessing.image import load_img\n",
    "from keras.preprocessing.image import img_to_array\n",
    "from keras.models import load_model\n",
    "\n",
    "import numpy as np\n",
    "\n",
    "app = Flask(__name__)\n",
    "model = load_model('model/Covid_19_CNN.h5')\n",
    "\n",
    "class_names =  [\"COVID-19 class\", \"Normal/Healthy class\", \"Viral Pneumonia class\"]\n",
    "\n",
    "@app.route('/', methods = ['GET'])\n",
    "def index():\n",
    "    return render_template('index.html')\n",
    "\n",
    "@app.route('/', methods = ['POST'])\n",
    "def predict():\n",
    "    imagefile = request.files['imagefile']\n",
    "    image_path = \"./static/\"+ \"image.jpg\"\n",
    "    imagefile.save(image_path)\n",
    "\n",
    "    image = load_img(image_path, target_size = (350, 350, 3))\n",
    "    image = img_to_array(image)\n",
    "    image = np.expand_dims(image, axis=0)\n",
    "    images = np.vstack([image])\n",
    "    predict = model.predict_classes(images)\n",
    "    predicted_class = class_names[int(predict)]\n",
    "\n",
    "    classification = '%s' % (predicted_class)\n",
    "    \n",
    "    return render_template('index.html', prediction = classification, image = image_path)\n",
    "\n",
    "if __name__ == '__main__':\n",
    "    app.run()"
   ]
  },
  {
   "cell_type": "code",
   "execution_count": null,
   "id": "4244ba64",
   "metadata": {},
   "outputs": [],
   "source": []
  }
 ],
 "metadata": {
  "kernelspec": {
   "display_name": "Python 3",
   "language": "python",
   "name": "python3"
  },
  "language_info": {
   "codemirror_mode": {
    "name": "ipython",
    "version": 3
   },
   "file_extension": ".py",
   "mimetype": "text/x-python",
   "name": "python",
   "nbconvert_exporter": "python",
   "pygments_lexer": "ipython3",
   "version": "3.8.8"
  }
 },
 "nbformat": 4,
 "nbformat_minor": 5
}
